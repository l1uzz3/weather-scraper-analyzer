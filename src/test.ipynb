{
 "cells": [
  {
   "metadata": {},
   "cell_type": "markdown",
   "source": [
    "# Test\n",
    "### This is the first .ipynb file that is ran inside the docker container!"
   ],
   "id": "a133119631320b36"
  },
  {
   "metadata": {
    "ExecuteTime": {
     "end_time": "2024-10-22T13:51:53.941673Z",
     "start_time": "2024-10-22T13:51:53.910341Z"
    }
   },
   "cell_type": "code",
   "source": "print(\"Hello\")",
   "id": "7023073ef606a053",
   "outputs": [
    {
     "name": "stdout",
     "output_type": "stream",
     "text": [
      "Hello\n"
     ]
    }
   ],
   "execution_count": 1
  },
  {
   "metadata": {},
   "cell_type": "code",
   "outputs": [],
   "execution_count": null,
   "source": "",
   "id": "9d23ae8dee38825"
  }
 ],
 "metadata": {
  "kernelspec": {
   "display_name": "Python 3",
   "language": "python",
   "name": "python3"
  },
  "language_info": {
   "codemirror_mode": {
    "name": "ipython",
    "version": 2
   },
   "file_extension": ".py",
   "mimetype": "text/x-python",
   "name": "python",
   "nbconvert_exporter": "python",
   "pygments_lexer": "ipython2",
   "version": "2.7.6"
  }
 },
 "nbformat": 4,
 "nbformat_minor": 5
}
